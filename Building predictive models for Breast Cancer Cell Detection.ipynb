{
 "cells": [
  {
   "cell_type": "markdown",
   "metadata": {},
   "source": [
    "# Setup"
   ]
  },
  {
   "cell_type": "markdown",
   "metadata": {},
   "source": [
    "Following analyses are produced in Python 2.7.12 using Jupyter notebook. Versions of each Python module will be indicated in the notebook whenever installed."
   ]
  },
  {
   "cell_type": "markdown",
   "metadata": {},
   "source": [
    "# Modules"
   ]
  },
  {
   "cell_type": "code",
   "execution_count": 53,
   "metadata": {
    "collapsed": false
   },
   "outputs": [],
   "source": [
    "from StringIO import StringIO\n",
    "import pandas as pd\n",
    "import requests as rq\n",
    "import numpy as np\n",
    "\n",
    "%matplotlib inline\n",
    "import matplotlib.pyplot as plt\n",
    "from matplotlib import pyplot as plt\n",
    "\n",
    "import plotly.plotly as py\n",
    "\n",
    "from sklearn import metrics\n",
    "from sklearn import cross_validation\n",
    "from sklearn.cross_validation import cross_val_predict"
   ]
  },
  {
   "cell_type": "code",
   "execution_count": 54,
   "metadata": {
    "collapsed": false
   },
   "outputs": [
    {
     "name": "stdout",
     "output_type": "stream",
     "text": [
      "0.18.1\n",
      "2.14.1\n",
      "1.12.1\n"
     ]
    }
   ],
   "source": [
    "print pd.__version__\n",
    "print rq.__version__\n",
    "print np.__version__"
   ]
  },
  {
   "cell_type": "markdown",
   "metadata": {},
   "source": [
    "# Dataset"
   ]
  },
  {
   "cell_type": "markdown",
   "metadata": {},
   "source": [
    "The dataset is the Breast Cancer Wisconsin Dataset, downloaded from UC Irvine Machine Learning Repository (https://archive.ics.uci.edu/ml/datasets/breast+cancer+wisconsin+(original)).\n",
    "\n",
    "Our goal is to develop a classification model that predicts whether a biopsied breast cell is benign (not harmful) or malignant (cancerous), given a set of attributes (features) about cells (observations). These features were generated from image analysis of fine needle aspiration of breast masses (https://en.wikipedia.org/wiki/Fine-needle_aspiration).\n",
    "\n",
    "- Sample ID (code number)\n",
    "- Clump thickness\n",
    "- Uniformity of cell size\n",
    "- Uniformity of cell shape\n",
    "- Marginal adhesion\n",
    "- Single epithelial cell size\n",
    "- Number of bare nuclei\n",
    "- Bland chromatin\n",
    "- Number of normal nuclei\n",
    "- Mitosis\n",
    "- Classes, i.e. diagnosis"
   ]
  },
  {
   "cell_type": "code",
   "execution_count": 3,
   "metadata": {
    "collapsed": false
   },
   "outputs": [],
   "source": [
    "url =\"https://archive.ics.uci.edu/ml/machine-learning-databases/breast-cancer-wisconsin/breast-cancer-wisconsin.data\"\n",
    "s=rq.get(url).text\n",
    "data=pd.DataFrame.from_csv(StringIO(s), index_col=False)"
   ]
  },
  {
   "cell_type": "code",
   "execution_count": 4,
   "metadata": {
    "collapsed": false
   },
   "outputs": [
    {
     "data": {
      "text/plain": [
       "(698, 11)"
      ]
     },
     "execution_count": 4,
     "metadata": {},
     "output_type": "execute_result"
    }
   ],
   "source": [
    "data.shape # 698 observations and 10 features"
   ]
  },
  {
   "cell_type": "markdown",
   "metadata": {},
   "source": [
    "Add column names"
   ]
  },
  {
   "cell_type": "code",
   "execution_count": 5,
   "metadata": {
    "collapsed": true
   },
   "outputs": [],
   "source": [
    "data.columns = ['Id', \n",
    "                'Clump_Thickness', \n",
    "                'Uniformity_Cell_Size', \n",
    "                'Uniformity_Cell_Shape', \n",
    "                'Marginal_Adhesion', \n",
    "                'Single_Epithelial_Cell_Size', \n",
    "                'Bare_Nuclei', \n",
    "                'Bland_Chromatin', \n",
    "                'Normal_Nucleoli', \n",
    "                'Mitoses', \n",
    "                'Class']"
   ]
  },
  {
   "cell_type": "code",
   "execution_count": 6,
   "metadata": {
    "collapsed": false,
    "scrolled": true
   },
   "outputs": [
    {
     "data": {
      "text/html": [
       "<div>\n",
       "<table border=\"1\" class=\"dataframe\">\n",
       "  <thead>\n",
       "    <tr style=\"text-align: right;\">\n",
       "      <th></th>\n",
       "      <th>Id</th>\n",
       "      <th>Clump_Thickness</th>\n",
       "      <th>Uniformity_Cell_Size</th>\n",
       "      <th>Uniformity_Cell_Shape</th>\n",
       "      <th>Marginal_Adhesion</th>\n",
       "      <th>Single_Epithelial_Cell_Size</th>\n",
       "      <th>Bare_Nuclei</th>\n",
       "      <th>Bland_Chromatin</th>\n",
       "      <th>Normal_Nucleoli</th>\n",
       "      <th>Mitoses</th>\n",
       "      <th>Class</th>\n",
       "    </tr>\n",
       "  </thead>\n",
       "  <tbody>\n",
       "    <tr>\n",
       "      <th>0</th>\n",
       "      <td>1002945</td>\n",
       "      <td>5</td>\n",
       "      <td>4</td>\n",
       "      <td>4</td>\n",
       "      <td>5</td>\n",
       "      <td>7</td>\n",
       "      <td>10</td>\n",
       "      <td>3</td>\n",
       "      <td>2</td>\n",
       "      <td>1</td>\n",
       "      <td>2</td>\n",
       "    </tr>\n",
       "    <tr>\n",
       "      <th>1</th>\n",
       "      <td>1015425</td>\n",
       "      <td>3</td>\n",
       "      <td>1</td>\n",
       "      <td>1</td>\n",
       "      <td>1</td>\n",
       "      <td>2</td>\n",
       "      <td>2</td>\n",
       "      <td>3</td>\n",
       "      <td>1</td>\n",
       "      <td>1</td>\n",
       "      <td>2</td>\n",
       "    </tr>\n",
       "    <tr>\n",
       "      <th>2</th>\n",
       "      <td>1016277</td>\n",
       "      <td>6</td>\n",
       "      <td>8</td>\n",
       "      <td>8</td>\n",
       "      <td>1</td>\n",
       "      <td>3</td>\n",
       "      <td>4</td>\n",
       "      <td>3</td>\n",
       "      <td>7</td>\n",
       "      <td>1</td>\n",
       "      <td>2</td>\n",
       "    </tr>\n",
       "    <tr>\n",
       "      <th>3</th>\n",
       "      <td>1017023</td>\n",
       "      <td>4</td>\n",
       "      <td>1</td>\n",
       "      <td>1</td>\n",
       "      <td>3</td>\n",
       "      <td>2</td>\n",
       "      <td>1</td>\n",
       "      <td>3</td>\n",
       "      <td>1</td>\n",
       "      <td>1</td>\n",
       "      <td>2</td>\n",
       "    </tr>\n",
       "    <tr>\n",
       "      <th>4</th>\n",
       "      <td>1017122</td>\n",
       "      <td>8</td>\n",
       "      <td>10</td>\n",
       "      <td>10</td>\n",
       "      <td>8</td>\n",
       "      <td>7</td>\n",
       "      <td>10</td>\n",
       "      <td>9</td>\n",
       "      <td>7</td>\n",
       "      <td>1</td>\n",
       "      <td>4</td>\n",
       "    </tr>\n",
       "  </tbody>\n",
       "</table>\n",
       "</div>"
      ],
      "text/plain": [
       "        Id  Clump_Thickness  Uniformity_Cell_Size  Uniformity_Cell_Shape  \\\n",
       "0  1002945                5                     4                      4   \n",
       "1  1015425                3                     1                      1   \n",
       "2  1016277                6                     8                      8   \n",
       "3  1017023                4                     1                      1   \n",
       "4  1017122                8                    10                     10   \n",
       "\n",
       "   Marginal_Adhesion  Single_Epithelial_Cell_Size Bare_Nuclei  \\\n",
       "0                  5                            7          10   \n",
       "1                  1                            2           2   \n",
       "2                  1                            3           4   \n",
       "3                  3                            2           1   \n",
       "4                  8                            7          10   \n",
       "\n",
       "   Bland_Chromatin  Normal_Nucleoli  Mitoses  Class  \n",
       "0                3                2        1      2  \n",
       "1                3                1        1      2  \n",
       "2                3                7        1      2  \n",
       "3                3                1        1      2  \n",
       "4                9                7        1      4  "
      ]
     },
     "execution_count": 6,
     "metadata": {},
     "output_type": "execute_result"
    }
   ],
   "source": [
    "data.head() \n",
    "# There are 9 cell features (exc. id_number) in 2 classes (\"values = 2 (benign) or 4 (malignant)\")"
   ]
  },
  {
   "cell_type": "markdown",
   "metadata": {},
   "source": [
    "Fix Id column"
   ]
  },
  {
   "cell_type": "code",
   "execution_count": 7,
   "metadata": {
    "collapsed": false
   },
   "outputs": [
    {
     "data": {
      "text/html": [
       "<div>\n",
       "<table border=\"1\" class=\"dataframe\">\n",
       "  <thead>\n",
       "    <tr style=\"text-align: right;\">\n",
       "      <th></th>\n",
       "      <th>Clump_Thickness</th>\n",
       "      <th>Uniformity_Cell_Size</th>\n",
       "      <th>Uniformity_Cell_Shape</th>\n",
       "      <th>Marginal_Adhesion</th>\n",
       "      <th>Single_Epithelial_Cell_Size</th>\n",
       "      <th>Bare_Nuclei</th>\n",
       "      <th>Bland_Chromatin</th>\n",
       "      <th>Normal_Nucleoli</th>\n",
       "      <th>Mitoses</th>\n",
       "      <th>Class</th>\n",
       "    </tr>\n",
       "    <tr>\n",
       "      <th>Id</th>\n",
       "      <th></th>\n",
       "      <th></th>\n",
       "      <th></th>\n",
       "      <th></th>\n",
       "      <th></th>\n",
       "      <th></th>\n",
       "      <th></th>\n",
       "      <th></th>\n",
       "      <th></th>\n",
       "      <th></th>\n",
       "    </tr>\n",
       "  </thead>\n",
       "  <tbody>\n",
       "    <tr>\n",
       "      <th>1015425</th>\n",
       "      <td>3</td>\n",
       "      <td>1</td>\n",
       "      <td>1</td>\n",
       "      <td>1</td>\n",
       "      <td>2</td>\n",
       "      <td>2</td>\n",
       "      <td>3</td>\n",
       "      <td>1</td>\n",
       "      <td>1</td>\n",
       "      <td>2</td>\n",
       "    </tr>\n",
       "    <tr>\n",
       "      <th>1016277</th>\n",
       "      <td>6</td>\n",
       "      <td>8</td>\n",
       "      <td>8</td>\n",
       "      <td>1</td>\n",
       "      <td>3</td>\n",
       "      <td>4</td>\n",
       "      <td>3</td>\n",
       "      <td>7</td>\n",
       "      <td>1</td>\n",
       "      <td>2</td>\n",
       "    </tr>\n",
       "    <tr>\n",
       "      <th>1017023</th>\n",
       "      <td>4</td>\n",
       "      <td>1</td>\n",
       "      <td>1</td>\n",
       "      <td>3</td>\n",
       "      <td>2</td>\n",
       "      <td>1</td>\n",
       "      <td>3</td>\n",
       "      <td>1</td>\n",
       "      <td>1</td>\n",
       "      <td>2</td>\n",
       "    </tr>\n",
       "    <tr>\n",
       "      <th>1017122</th>\n",
       "      <td>8</td>\n",
       "      <td>10</td>\n",
       "      <td>10</td>\n",
       "      <td>8</td>\n",
       "      <td>7</td>\n",
       "      <td>10</td>\n",
       "      <td>9</td>\n",
       "      <td>7</td>\n",
       "      <td>1</td>\n",
       "      <td>4</td>\n",
       "    </tr>\n",
       "    <tr>\n",
       "      <th>1018099</th>\n",
       "      <td>1</td>\n",
       "      <td>1</td>\n",
       "      <td>1</td>\n",
       "      <td>1</td>\n",
       "      <td>2</td>\n",
       "      <td>10</td>\n",
       "      <td>3</td>\n",
       "      <td>1</td>\n",
       "      <td>1</td>\n",
       "      <td>2</td>\n",
       "    </tr>\n",
       "    <tr>\n",
       "      <th>1018561</th>\n",
       "      <td>2</td>\n",
       "      <td>1</td>\n",
       "      <td>2</td>\n",
       "      <td>1</td>\n",
       "      <td>2</td>\n",
       "      <td>1</td>\n",
       "      <td>3</td>\n",
       "      <td>1</td>\n",
       "      <td>1</td>\n",
       "      <td>2</td>\n",
       "    </tr>\n",
       "    <tr>\n",
       "      <th>1033078</th>\n",
       "      <td>2</td>\n",
       "      <td>1</td>\n",
       "      <td>1</td>\n",
       "      <td>1</td>\n",
       "      <td>2</td>\n",
       "      <td>1</td>\n",
       "      <td>1</td>\n",
       "      <td>1</td>\n",
       "      <td>5</td>\n",
       "      <td>2</td>\n",
       "    </tr>\n",
       "    <tr>\n",
       "      <th>1033078</th>\n",
       "      <td>4</td>\n",
       "      <td>2</td>\n",
       "      <td>1</td>\n",
       "      <td>1</td>\n",
       "      <td>2</td>\n",
       "      <td>1</td>\n",
       "      <td>2</td>\n",
       "      <td>1</td>\n",
       "      <td>1</td>\n",
       "      <td>2</td>\n",
       "    </tr>\n",
       "    <tr>\n",
       "      <th>1035283</th>\n",
       "      <td>1</td>\n",
       "      <td>1</td>\n",
       "      <td>1</td>\n",
       "      <td>1</td>\n",
       "      <td>1</td>\n",
       "      <td>1</td>\n",
       "      <td>3</td>\n",
       "      <td>1</td>\n",
       "      <td>1</td>\n",
       "      <td>2</td>\n",
       "    </tr>\n",
       "  </tbody>\n",
       "</table>\n",
       "</div>"
      ],
      "text/plain": [
       "         Clump_Thickness  Uniformity_Cell_Size  Uniformity_Cell_Shape  \\\n",
       "Id                                                                      \n",
       "1015425                3                     1                      1   \n",
       "1016277                6                     8                      8   \n",
       "1017023                4                     1                      1   \n",
       "1017122                8                    10                     10   \n",
       "1018099                1                     1                      1   \n",
       "1018561                2                     1                      2   \n",
       "1033078                2                     1                      1   \n",
       "1033078                4                     2                      1   \n",
       "1035283                1                     1                      1   \n",
       "\n",
       "         Marginal_Adhesion  Single_Epithelial_Cell_Size Bare_Nuclei  \\\n",
       "Id                                                                    \n",
       "1015425                  1                            2           2   \n",
       "1016277                  1                            3           4   \n",
       "1017023                  3                            2           1   \n",
       "1017122                  8                            7          10   \n",
       "1018099                  1                            2          10   \n",
       "1018561                  1                            2           1   \n",
       "1033078                  1                            2           1   \n",
       "1033078                  1                            2           1   \n",
       "1035283                  1                            1           1   \n",
       "\n",
       "         Bland_Chromatin  Normal_Nucleoli  Mitoses  Class  \n",
       "Id                                                         \n",
       "1015425                3                1        1      2  \n",
       "1016277                3                7        1      2  \n",
       "1017023                3                1        1      2  \n",
       "1017122                9                7        1      4  \n",
       "1018099                3                1        1      2  \n",
       "1018561                3                1        1      2  \n",
       "1033078                1                1        5      2  \n",
       "1033078                2                1        1      2  \n",
       "1035283                3                1        1      2  "
      ]
     },
     "execution_count": 7,
     "metadata": {},
     "output_type": "execute_result"
    }
   ],
   "source": [
    "data.index = data.Id \n",
    "data.drop('Id', axis=1)[1:10]"
   ]
  },
  {
   "cell_type": "code",
   "execution_count": 8,
   "metadata": {
    "collapsed": false
   },
   "outputs": [
    {
     "data": {
      "text/html": [
       "<div>\n",
       "<table border=\"1\" class=\"dataframe\">\n",
       "  <thead>\n",
       "    <tr style=\"text-align: right;\">\n",
       "      <th></th>\n",
       "      <th>Id</th>\n",
       "      <th>Clump_Thickness</th>\n",
       "      <th>Uniformity_Cell_Size</th>\n",
       "      <th>Uniformity_Cell_Shape</th>\n",
       "      <th>Marginal_Adhesion</th>\n",
       "      <th>Single_Epithelial_Cell_Size</th>\n",
       "      <th>Bland_Chromatin</th>\n",
       "      <th>Normal_Nucleoli</th>\n",
       "      <th>Mitoses</th>\n",
       "      <th>Class</th>\n",
       "    </tr>\n",
       "  </thead>\n",
       "  <tbody>\n",
       "    <tr>\n",
       "      <th>count</th>\n",
       "      <td>6.980000e+02</td>\n",
       "      <td>698.000000</td>\n",
       "      <td>698.000000</td>\n",
       "      <td>698.000000</td>\n",
       "      <td>698.000000</td>\n",
       "      <td>698.000000</td>\n",
       "      <td>698.000000</td>\n",
       "      <td>698.000000</td>\n",
       "      <td>698.000000</td>\n",
       "      <td>698.000000</td>\n",
       "    </tr>\n",
       "    <tr>\n",
       "      <th>mean</th>\n",
       "      <td>1.071807e+06</td>\n",
       "      <td>4.416905</td>\n",
       "      <td>3.137536</td>\n",
       "      <td>3.210602</td>\n",
       "      <td>2.809456</td>\n",
       "      <td>3.217765</td>\n",
       "      <td>3.438395</td>\n",
       "      <td>2.869628</td>\n",
       "      <td>1.590258</td>\n",
       "      <td>2.690544</td>\n",
       "    </tr>\n",
       "    <tr>\n",
       "      <th>std</th>\n",
       "      <td>6.175323e+05</td>\n",
       "      <td>2.817673</td>\n",
       "      <td>3.052575</td>\n",
       "      <td>2.972867</td>\n",
       "      <td>2.856606</td>\n",
       "      <td>2.215408</td>\n",
       "      <td>2.440056</td>\n",
       "      <td>3.055004</td>\n",
       "      <td>1.716162</td>\n",
       "      <td>0.951596</td>\n",
       "    </tr>\n",
       "    <tr>\n",
       "      <th>min</th>\n",
       "      <td>6.163400e+04</td>\n",
       "      <td>1.000000</td>\n",
       "      <td>1.000000</td>\n",
       "      <td>1.000000</td>\n",
       "      <td>1.000000</td>\n",
       "      <td>1.000000</td>\n",
       "      <td>1.000000</td>\n",
       "      <td>1.000000</td>\n",
       "      <td>1.000000</td>\n",
       "      <td>2.000000</td>\n",
       "    </tr>\n",
       "    <tr>\n",
       "      <th>25%</th>\n",
       "      <td>8.702582e+05</td>\n",
       "      <td>2.000000</td>\n",
       "      <td>1.000000</td>\n",
       "      <td>1.000000</td>\n",
       "      <td>1.000000</td>\n",
       "      <td>2.000000</td>\n",
       "      <td>2.000000</td>\n",
       "      <td>1.000000</td>\n",
       "      <td>1.000000</td>\n",
       "      <td>2.000000</td>\n",
       "    </tr>\n",
       "    <tr>\n",
       "      <th>50%</th>\n",
       "      <td>1.171710e+06</td>\n",
       "      <td>4.000000</td>\n",
       "      <td>1.000000</td>\n",
       "      <td>1.000000</td>\n",
       "      <td>1.000000</td>\n",
       "      <td>2.000000</td>\n",
       "      <td>3.000000</td>\n",
       "      <td>1.000000</td>\n",
       "      <td>1.000000</td>\n",
       "      <td>2.000000</td>\n",
       "    </tr>\n",
       "    <tr>\n",
       "      <th>75%</th>\n",
       "      <td>1.238354e+06</td>\n",
       "      <td>6.000000</td>\n",
       "      <td>5.000000</td>\n",
       "      <td>5.000000</td>\n",
       "      <td>4.000000</td>\n",
       "      <td>4.000000</td>\n",
       "      <td>5.000000</td>\n",
       "      <td>4.000000</td>\n",
       "      <td>1.000000</td>\n",
       "      <td>4.000000</td>\n",
       "    </tr>\n",
       "    <tr>\n",
       "      <th>max</th>\n",
       "      <td>1.345435e+07</td>\n",
       "      <td>10.000000</td>\n",
       "      <td>10.000000</td>\n",
       "      <td>10.000000</td>\n",
       "      <td>10.000000</td>\n",
       "      <td>10.000000</td>\n",
       "      <td>10.000000</td>\n",
       "      <td>10.000000</td>\n",
       "      <td>10.000000</td>\n",
       "      <td>4.000000</td>\n",
       "    </tr>\n",
       "  </tbody>\n",
       "</table>\n",
       "</div>"
      ],
      "text/plain": [
       "                 Id  Clump_Thickness  Uniformity_Cell_Size  \\\n",
       "count  6.980000e+02       698.000000            698.000000   \n",
       "mean   1.071807e+06         4.416905              3.137536   \n",
       "std    6.175323e+05         2.817673              3.052575   \n",
       "min    6.163400e+04         1.000000              1.000000   \n",
       "25%    8.702582e+05         2.000000              1.000000   \n",
       "50%    1.171710e+06         4.000000              1.000000   \n",
       "75%    1.238354e+06         6.000000              5.000000   \n",
       "max    1.345435e+07        10.000000             10.000000   \n",
       "\n",
       "       Uniformity_Cell_Shape  Marginal_Adhesion  Single_Epithelial_Cell_Size  \\\n",
       "count             698.000000         698.000000                   698.000000   \n",
       "mean                3.210602           2.809456                     3.217765   \n",
       "std                 2.972867           2.856606                     2.215408   \n",
       "min                 1.000000           1.000000                     1.000000   \n",
       "25%                 1.000000           1.000000                     2.000000   \n",
       "50%                 1.000000           1.000000                     2.000000   \n",
       "75%                 5.000000           4.000000                     4.000000   \n",
       "max                10.000000          10.000000                    10.000000   \n",
       "\n",
       "       Bland_Chromatin  Normal_Nucleoli     Mitoses       Class  \n",
       "count       698.000000       698.000000  698.000000  698.000000  \n",
       "mean          3.438395         2.869628    1.590258    2.690544  \n",
       "std           2.440056         3.055004    1.716162    0.951596  \n",
       "min           1.000000         1.000000    1.000000    2.000000  \n",
       "25%           2.000000         1.000000    1.000000    2.000000  \n",
       "50%           3.000000         1.000000    1.000000    2.000000  \n",
       "75%           5.000000         4.000000    1.000000    4.000000  \n",
       "max          10.000000        10.000000   10.000000    4.000000  "
      ]
     },
     "execution_count": 8,
     "metadata": {},
     "output_type": "execute_result"
    }
   ],
   "source": [
    "data.describe()"
   ]
  },
  {
   "cell_type": "markdown",
   "metadata": {},
   "source": [
    "# Missing and/or Duplicated Data"
   ]
  },
  {
   "cell_type": "markdown",
   "metadata": {},
   "source": [
    "Bare_Nuclei cell feature is missing. Why? Most features are intergers with the exception of 'Bare Nuclei', an object."
   ]
  },
  {
   "cell_type": "code",
   "execution_count": 9,
   "metadata": {
    "collapsed": false
   },
   "outputs": [
    {
     "data": {
      "text/plain": [
       "Id                              int64\n",
       "Clump_Thickness                 int64\n",
       "Uniformity_Cell_Size            int64\n",
       "Uniformity_Cell_Shape           int64\n",
       "Marginal_Adhesion               int64\n",
       "Single_Epithelial_Cell_Size     int64\n",
       "Bare_Nuclei                    object\n",
       "Bland_Chromatin                 int64\n",
       "Normal_Nucleoli                 int64\n",
       "Mitoses                         int64\n",
       "Class                           int64\n",
       "dtype: object"
      ]
     },
     "execution_count": 9,
     "metadata": {},
     "output_type": "execute_result"
    }
   ],
   "source": [
    "data.dtypes "
   ]
  },
  {
   "cell_type": "code",
   "execution_count": 10,
   "metadata": {
    "collapsed": false
   },
   "outputs": [
    {
     "data": {
      "text/plain": [
       "1     401\n",
       "10    132\n",
       "5      30\n",
       "2      30\n",
       "3      28\n",
       "8      21\n",
       "4      19\n",
       "?      16\n",
       "9       9\n",
       "7       8\n",
       "6       4\n",
       "Name: Bare_Nuclei, dtype: int64"
      ]
     },
     "execution_count": 10,
     "metadata": {},
     "output_type": "execute_result"
    }
   ],
   "source": [
    "data.Bare_Nuclei.value_counts() "
   ]
  },
  {
   "cell_type": "markdown",
   "metadata": {},
   "source": [
    "There are 16 '?' values - some cell types were bare nuclei could NOT be assessed, they were removed"
   ]
  },
  {
   "cell_type": "code",
   "execution_count": 11,
   "metadata": {
    "collapsed": false
   },
   "outputs": [
    {
     "data": {
      "text/plain": [
       "1     401\n",
       "10    132\n",
       "5      30\n",
       "2      30\n",
       "3      28\n",
       "8      21\n",
       "4      19\n",
       "9       9\n",
       "7       8\n",
       "6       4\n",
       "Name: Bare_Nuclei, dtype: int64"
      ]
     },
     "execution_count": 11,
     "metadata": {},
     "output_type": "execute_result"
    }
   ],
   "source": [
    "data = data[data.Bare_Nuclei != '?']\n",
    "data.Bare_Nuclei.value_counts()"
   ]
  },
  {
   "cell_type": "code",
   "execution_count": 12,
   "metadata": {
    "collapsed": true
   },
   "outputs": [],
   "source": [
    "data.Bare_Nuclei = map(int,data.Bare_Nuclei)"
   ]
  },
  {
   "cell_type": "code",
   "execution_count": 13,
   "metadata": {
    "collapsed": false
   },
   "outputs": [
    {
     "data": {
      "text/plain": [
       "Id                             int64\n",
       "Clump_Thickness                int64\n",
       "Uniformity_Cell_Size           int64\n",
       "Uniformity_Cell_Shape          int64\n",
       "Marginal_Adhesion              int64\n",
       "Single_Epithelial_Cell_Size    int64\n",
       "Bare_Nuclei                    int64\n",
       "Bland_Chromatin                int64\n",
       "Normal_Nucleoli                int64\n",
       "Mitoses                        int64\n",
       "Class                          int64\n",
       "dtype: object"
      ]
     },
     "execution_count": 13,
     "metadata": {},
     "output_type": "execute_result"
    }
   ],
   "source": [
    "data.dtypes"
   ]
  },
  {
   "cell_type": "markdown",
   "metadata": {},
   "source": [
    "The dataset is made of 682 observations with 11 features, without any missing values."
   ]
  },
  {
   "cell_type": "code",
   "execution_count": 14,
   "metadata": {
    "collapsed": false
   },
   "outputs": [
    {
     "data": {
      "text/plain": [
       "(682, 11)"
      ]
     },
     "execution_count": 14,
     "metadata": {},
     "output_type": "execute_result"
    }
   ],
   "source": [
    "data.shape"
   ]
  },
  {
   "cell_type": "code",
   "execution_count": 15,
   "metadata": {
    "collapsed": false
   },
   "outputs": [
    {
     "data": {
      "text/plain": [
       "Id                             0\n",
       "Clump_Thickness                0\n",
       "Uniformity_Cell_Size           0\n",
       "Uniformity_Cell_Shape          0\n",
       "Marginal_Adhesion              0\n",
       "Single_Epithelial_Cell_Size    0\n",
       "Bare_Nuclei                    0\n",
       "Bland_Chromatin                0\n",
       "Normal_Nucleoli                0\n",
       "Mitoses                        0\n",
       "Class                          0\n",
       "dtype: int64"
      ]
     },
     "execution_count": 15,
     "metadata": {},
     "output_type": "execute_result"
    }
   ],
   "source": [
    "pd.isnull(data).sum()"
   ]
  },
  {
   "cell_type": "markdown",
   "metadata": {},
   "source": [
    "The dataset has duplicated observations that were removed. The final dataset is now made of 674 observations."
   ]
  },
  {
   "cell_type": "code",
   "execution_count": 16,
   "metadata": {
    "collapsed": false
   },
   "outputs": [
    {
     "data": {
      "text/html": [
       "<div>\n",
       "<table border=\"1\" class=\"dataframe\">\n",
       "  <thead>\n",
       "    <tr style=\"text-align: right;\">\n",
       "      <th></th>\n",
       "      <th>Id</th>\n",
       "      <th>Clump_Thickness</th>\n",
       "      <th>Uniformity_Cell_Size</th>\n",
       "      <th>Uniformity_Cell_Shape</th>\n",
       "      <th>Marginal_Adhesion</th>\n",
       "      <th>Single_Epithelial_Cell_Size</th>\n",
       "      <th>Bare_Nuclei</th>\n",
       "      <th>Bland_Chromatin</th>\n",
       "      <th>Normal_Nucleoli</th>\n",
       "      <th>Mitoses</th>\n",
       "      <th>Class</th>\n",
       "    </tr>\n",
       "    <tr>\n",
       "      <th>Id</th>\n",
       "      <th></th>\n",
       "      <th></th>\n",
       "      <th></th>\n",
       "      <th></th>\n",
       "      <th></th>\n",
       "      <th></th>\n",
       "      <th></th>\n",
       "      <th></th>\n",
       "      <th></th>\n",
       "      <th></th>\n",
       "      <th></th>\n",
       "    </tr>\n",
       "  </thead>\n",
       "  <tbody>\n",
       "    <tr>\n",
       "      <th>1218860</th>\n",
       "      <td>1218860</td>\n",
       "      <td>1</td>\n",
       "      <td>1</td>\n",
       "      <td>1</td>\n",
       "      <td>1</td>\n",
       "      <td>1</td>\n",
       "      <td>1</td>\n",
       "      <td>3</td>\n",
       "      <td>1</td>\n",
       "      <td>1</td>\n",
       "      <td>2</td>\n",
       "    </tr>\n",
       "    <tr>\n",
       "      <th>1100524</th>\n",
       "      <td>1100524</td>\n",
       "      <td>6</td>\n",
       "      <td>10</td>\n",
       "      <td>10</td>\n",
       "      <td>2</td>\n",
       "      <td>8</td>\n",
       "      <td>10</td>\n",
       "      <td>7</td>\n",
       "      <td>3</td>\n",
       "      <td>3</td>\n",
       "      <td>4</td>\n",
       "    </tr>\n",
       "    <tr>\n",
       "      <th>1116116</th>\n",
       "      <td>1116116</td>\n",
       "      <td>9</td>\n",
       "      <td>10</td>\n",
       "      <td>10</td>\n",
       "      <td>1</td>\n",
       "      <td>10</td>\n",
       "      <td>8</td>\n",
       "      <td>3</td>\n",
       "      <td>3</td>\n",
       "      <td>1</td>\n",
       "      <td>4</td>\n",
       "    </tr>\n",
       "    <tr>\n",
       "      <th>1198641</th>\n",
       "      <td>1198641</td>\n",
       "      <td>3</td>\n",
       "      <td>1</td>\n",
       "      <td>1</td>\n",
       "      <td>1</td>\n",
       "      <td>2</td>\n",
       "      <td>1</td>\n",
       "      <td>3</td>\n",
       "      <td>1</td>\n",
       "      <td>1</td>\n",
       "      <td>2</td>\n",
       "    </tr>\n",
       "    <tr>\n",
       "      <th>320675</th>\n",
       "      <td>320675</td>\n",
       "      <td>3</td>\n",
       "      <td>3</td>\n",
       "      <td>5</td>\n",
       "      <td>2</td>\n",
       "      <td>3</td>\n",
       "      <td>10</td>\n",
       "      <td>7</td>\n",
       "      <td>1</td>\n",
       "      <td>1</td>\n",
       "      <td>4</td>\n",
       "    </tr>\n",
       "    <tr>\n",
       "      <th>704097</th>\n",
       "      <td>704097</td>\n",
       "      <td>1</td>\n",
       "      <td>1</td>\n",
       "      <td>1</td>\n",
       "      <td>1</td>\n",
       "      <td>1</td>\n",
       "      <td>1</td>\n",
       "      <td>2</td>\n",
       "      <td>1</td>\n",
       "      <td>1</td>\n",
       "      <td>2</td>\n",
       "    </tr>\n",
       "    <tr>\n",
       "      <th>1321942</th>\n",
       "      <td>1321942</td>\n",
       "      <td>5</td>\n",
       "      <td>1</td>\n",
       "      <td>1</td>\n",
       "      <td>1</td>\n",
       "      <td>2</td>\n",
       "      <td>1</td>\n",
       "      <td>3</td>\n",
       "      <td>1</td>\n",
       "      <td>1</td>\n",
       "      <td>2</td>\n",
       "    </tr>\n",
       "    <tr>\n",
       "      <th>466906</th>\n",
       "      <td>466906</td>\n",
       "      <td>1</td>\n",
       "      <td>1</td>\n",
       "      <td>1</td>\n",
       "      <td>1</td>\n",
       "      <td>2</td>\n",
       "      <td>1</td>\n",
       "      <td>1</td>\n",
       "      <td>1</td>\n",
       "      <td>1</td>\n",
       "      <td>2</td>\n",
       "    </tr>\n",
       "  </tbody>\n",
       "</table>\n",
       "</div>"
      ],
      "text/plain": [
       "              Id  Clump_Thickness  Uniformity_Cell_Size  \\\n",
       "Id                                                        \n",
       "1218860  1218860                1                     1   \n",
       "1100524  1100524                6                    10   \n",
       "1116116  1116116                9                    10   \n",
       "1198641  1198641                3                     1   \n",
       "320675    320675                3                     3   \n",
       "704097    704097                1                     1   \n",
       "1321942  1321942                5                     1   \n",
       "466906    466906                1                     1   \n",
       "\n",
       "         Uniformity_Cell_Shape  Marginal_Adhesion  \\\n",
       "Id                                                  \n",
       "1218860                      1                  1   \n",
       "1100524                     10                  2   \n",
       "1116116                     10                  1   \n",
       "1198641                      1                  1   \n",
       "320675                       5                  2   \n",
       "704097                       1                  1   \n",
       "1321942                      1                  1   \n",
       "466906                       1                  1   \n",
       "\n",
       "         Single_Epithelial_Cell_Size  Bare_Nuclei  Bland_Chromatin  \\\n",
       "Id                                                                   \n",
       "1218860                            1            1                3   \n",
       "1100524                            8           10                7   \n",
       "1116116                           10            8                3   \n",
       "1198641                            2            1                3   \n",
       "320675                             3           10                7   \n",
       "704097                             1            1                2   \n",
       "1321942                            2            1                3   \n",
       "466906                             2            1                1   \n",
       "\n",
       "         Normal_Nucleoli  Mitoses  Class  \n",
       "Id                                        \n",
       "1218860                1        1      2  \n",
       "1100524                3        3      4  \n",
       "1116116                3        1      4  \n",
       "1198641                1        1      2  \n",
       "320675                 1        1      4  \n",
       "704097                 1        1      2  \n",
       "1321942                1        1      2  \n",
       "466906                 1        1      2  "
      ]
     },
     "execution_count": 16,
     "metadata": {},
     "output_type": "execute_result"
    }
   ],
   "source": [
    "data[data.duplicated()]"
   ]
  },
  {
   "cell_type": "code",
   "execution_count": 17,
   "metadata": {
    "collapsed": true
   },
   "outputs": [],
   "source": [
    "data = data.drop_duplicates()"
   ]
  },
  {
   "cell_type": "code",
   "execution_count": 18,
   "metadata": {
    "collapsed": false
   },
   "outputs": [
    {
     "data": {
      "text/plain": [
       "(674, 11)"
      ]
     },
     "execution_count": 18,
     "metadata": {},
     "output_type": "execute_result"
    }
   ],
   "source": [
    "data.shape"
   ]
  },
  {
   "cell_type": "markdown",
   "metadata": {},
   "source": [
    "-"
   ]
  },
  {
   "cell_type": "markdown",
   "metadata": {},
   "source": [
    "# Exploratory Data Analysis"
   ]
  },
  {
   "cell_type": "markdown",
   "metadata": {},
   "source": [
    "The dataset is not well balanced - 438 benign cells and 236 malignant cells."
   ]
  },
  {
   "cell_type": "code",
   "execution_count": 19,
   "metadata": {
    "collapsed": false,
    "scrolled": true
   },
   "outputs": [
    {
     "data": {
      "text/html": [
       "<div>\n",
       "<table border=\"1\" class=\"dataframe\">\n",
       "  <thead>\n",
       "    <tr style=\"text-align: right;\">\n",
       "      <th></th>\n",
       "      <th>Id</th>\n",
       "      <th>Clump_Thickness</th>\n",
       "      <th>Uniformity_Cell_Size</th>\n",
       "      <th>Uniformity_Cell_Shape</th>\n",
       "      <th>Marginal_Adhesion</th>\n",
       "      <th>Single_Epithelial_Cell_Size</th>\n",
       "      <th>Bare_Nuclei</th>\n",
       "      <th>Bland_Chromatin</th>\n",
       "      <th>Normal_Nucleoli</th>\n",
       "      <th>Mitoses</th>\n",
       "    </tr>\n",
       "    <tr>\n",
       "      <th>Class</th>\n",
       "      <th></th>\n",
       "      <th></th>\n",
       "      <th></th>\n",
       "      <th></th>\n",
       "      <th></th>\n",
       "      <th></th>\n",
       "      <th></th>\n",
       "      <th></th>\n",
       "      <th></th>\n",
       "      <th></th>\n",
       "    </tr>\n",
       "  </thead>\n",
       "  <tbody>\n",
       "    <tr>\n",
       "      <th>2</th>\n",
       "      <td>438</td>\n",
       "      <td>438</td>\n",
       "      <td>438</td>\n",
       "      <td>438</td>\n",
       "      <td>438</td>\n",
       "      <td>438</td>\n",
       "      <td>438</td>\n",
       "      <td>438</td>\n",
       "      <td>438</td>\n",
       "      <td>438</td>\n",
       "    </tr>\n",
       "    <tr>\n",
       "      <th>4</th>\n",
       "      <td>236</td>\n",
       "      <td>236</td>\n",
       "      <td>236</td>\n",
       "      <td>236</td>\n",
       "      <td>236</td>\n",
       "      <td>236</td>\n",
       "      <td>236</td>\n",
       "      <td>236</td>\n",
       "      <td>236</td>\n",
       "      <td>236</td>\n",
       "    </tr>\n",
       "  </tbody>\n",
       "</table>\n",
       "</div>"
      ],
      "text/plain": [
       "        Id  Clump_Thickness  Uniformity_Cell_Size  Uniformity_Cell_Shape  \\\n",
       "Class                                                                      \n",
       "2      438              438                   438                    438   \n",
       "4      236              236                   236                    236   \n",
       "\n",
       "       Marginal_Adhesion  Single_Epithelial_Cell_Size  Bare_Nuclei  \\\n",
       "Class                                                                \n",
       "2                    438                          438          438   \n",
       "4                    236                          236          236   \n",
       "\n",
       "       Bland_Chromatin  Normal_Nucleoli  Mitoses  \n",
       "Class                                             \n",
       "2                  438              438      438  \n",
       "4                  236              236      236  "
      ]
     },
     "execution_count": 19,
     "metadata": {},
     "output_type": "execute_result"
    }
   ],
   "source": [
    "data.groupby('Class').count()"
   ]
  },
  {
   "cell_type": "code",
   "execution_count": 20,
   "metadata": {
    "collapsed": false,
    "scrolled": true
   },
   "outputs": [
    {
     "data": {
      "image/png": "[encoded data removed]",
      "text/plain": [
       "<matplotlib.figure.Figure at 0x117240a10>"
      ]
     },
     "metadata": {},
     "output_type": "display_data"
    },
    {
     "data": {
      "image/png": "[encoded data removed]",
      "text/plain": [
       "<matplotlib.figure.Figure at 0x11726d710>"
      ]
     },
     "metadata": {},
     "output_type": "display_data"
    },
    {
     "data": {
      "image/png": "[encoded data removed]",
      "text/plain": [
       "<matplotlib.figure.Figure at 0x117c5f1d0>"
      ]
     },
     "metadata": {},
     "output_type": "display_data"
    },
    {
     "data": {
      "image/png": "[encoded data removed]",
      "text/plain": [
       "<matplotlib.figure.Figure at 0x11978bd50>"
      ]
     },
     "metadata": {},
     "output_type": "display_data"
    },
    {
     "data": {
      "image/png": "[encoded data removed]",
      "text/plain": [
       "<matplotlib.figure.Figure at 0x119980790>"
      ]
     },
     "metadata": {},
     "output_type": "display_data"
    },
    {
     "data": {
      "image/png": "[encoded data removed]",
      "text/plain": [
       "<matplotlib.figure.Figure at 0x119a7a290>"
      ]
     },
     "metadata": {},
     "output_type": "display_data"
    },
    {
     "data": {
      "image/png": "[encoded data removed]",
      "text/plain": [
       "<matplotlib.figure.Figure at 0x1171d1f90>"
      ]
     },
     "metadata": {},
     "output_type": "display_data"
    },
    {
     "data": {
      "image/png": "[encoded data removed]",
      "text/plain": [
       "<matplotlib.figure.Figure at 0x119c6cf90>"
      ]
     },
     "metadata": {},
     "output_type": "display_data"
    },
    {
     "data": {
      "image/png": "[encoded data removed]",
      "text/plain": [
       "<matplotlib.figure.Figure at 0x119e6a2d0>"
      ]
     },
     "metadata": {},
     "output_type": "display_data"
    }
   ],
   "source": [
    "data.iloc[:,1:11]\n",
    "bins = range(1,12,1)\n",
    "\n",
    "for i, feature in enumerate(data.iloc[:,1:10]):\n",
    "    plt.subplots()\n",
    "    plt.hist(data[data['Class'] == 2][feature], bins = bins, alpha = 0.5, label='benign')  \n",
    "    plt.hist(data[data['Class'] == 4][feature], bins = bins, alpha = 0.5, label='malignant')\n",
    "    plt.ylabel('frequency')\n",
    "    plt.xlabel(feature)\n",
    "    plt.legend(loc='upper right')"
   ]
  },
  {
   "cell_type": "markdown",
   "metadata": {},
   "source": [
    "Observations:\n",
    "- Many benign cells are highly skewed towards lower scores (1-3) -- in comparison to malignant cells that score across the range (1-10). \n",
    "- Most cells can be distinguished through those differences. \n",
    "\n",
    "Which features are correlated?"
   ]
  },
  {
   "cell_type": "code",
   "execution_count": 21,
   "metadata": {
    "collapsed": true
   },
   "outputs": [],
   "source": [
    "import seaborn as sns"
   ]
  },
  {
   "cell_type": "code",
   "execution_count": 22,
   "metadata": {
    "collapsed": false,
    "scrolled": true
   },
   "outputs": [
    {
     "data": {
      "text/plain": [
       "Index([u'Clump_Thickness', u'Uniformity_Cell_Size', u'Uniformity_Cell_Shape',\n",
       "       u'Marginal_Adhesion', u'Single_Epithelial_Cell_Size', u'Bare_Nuclei',\n",
       "       u'Bland_Chromatin', u'Normal_Nucleoli', u'Mitoses'],\n",
       "      dtype='object')"
      ]
     },
     "execution_count": 22,
     "metadata": {},
     "output_type": "execute_result"
    }
   ],
   "source": [
    "subdata = data.iloc[:,1:10]\n",
    "subdata.columns"
   ]
  },
  {
   "cell_type": "markdown",
   "metadata": {},
   "source": [
    "From the correlogram, Cell shape and size are highly correlated. Other features (with the exception of mitoses) are moderately correlated. "
   ]
  },
  {
   "cell_type": "code",
   "execution_count": 23,
   "metadata": {
    "collapsed": false
   },
   "outputs": [
    {
     "data": {
      "text/plain": [
       "<matplotlib.axes._subplots.AxesSubplot at 0x119ce5110>"
      ]
     },
     "execution_count": 23,
     "metadata": {},
     "output_type": "execute_result"
    },
    {
     "data": {
      "image/png": "[encoded data removed]",
      "text/plain": [
       "<matplotlib.figure.Figure at 0x105a60150>"
      ]
     },
     "metadata": {},
     "output_type": "display_data"
    }
   ],
   "source": [
    "# Compute the correlation matrix\n",
    "corrmat = subdata.corr()\n",
    "\n",
    "# Draw the heatmap using seaborn\n",
    "sns.heatmap(corrmat, vmax=.9, square=True)"
   ]
  },
  {
   "cell_type": "markdown",
   "metadata": {},
   "source": [
    "How does the correlation between cell shape and size look like?"
   ]
  },
  {
   "cell_type": "code",
   "execution_count": 24,
   "metadata": {
    "collapsed": false
   },
   "outputs": [
    {
     "data": {
      "image/png": "[encoded data removed]",
      "text/plain": [
       "<matplotlib.figure.Figure at 0x11ac4fc50>"
      ]
     },
     "metadata": {},
     "output_type": "display_data"
    }
   ],
   "source": [
    "b_len = len(data[data['Class'] == 2]['Uniformity_Cell_Shape'])\n",
    "m_len = len(data[data['Class'] == 4]['Uniformity_Cell_Shape'])\n",
    "b_x = data[data['Class'] == 2]['Uniformity_Cell_Size'] + np.random.rand(b_len)/2.0\n",
    "b_y = data[data['Class'] == 2]['Uniformity_Cell_Shape'] + np.random.rand(b_len)/2.0\n",
    "m_x = data[data['Class'] == 4]['Uniformity_Cell_Size'] + np.random.rand(m_len)/2.0\n",
    "m_y = data[data['Class'] == 4]['Uniformity_Cell_Shape'] + np.random.rand(m_len)/2.0\n",
    "\n",
    "plt.scatter(b_x, b_y,color = 'b', alpha = 0.5, label='benign')\n",
    "plt.scatter(m_x, m_y,color = 'g', alpha = 0.5, label='malignant')\n",
    "plt.xlabel('Uniformity_Cell_Size')\n",
    "plt.ylabel('Uniformity_Cell_Shape')\n",
    "plt.legend(loc='upper left');"
   ]
  },
  {
   "cell_type": "markdown",
   "metadata": {},
   "source": [
    "Most benign cells are grouped in the left-bottom corner of this scatterplot which can explain most of the correlation. They displayed low scores (1-3) for both cell features, size and shape. "
   ]
  },
  {
   "cell_type": "markdown",
   "metadata": {},
   "source": [
    "-"
   ]
  },
  {
   "cell_type": "markdown",
   "metadata": {},
   "source": [
    "# Building Models"
   ]
  },
  {
   "cell_type": "markdown",
   "metadata": {},
   "source": [
    "In terms of models, the dataset is an example for binary classifiers - binomial logistic regression, tree-based methods (CART, Random Forest and XGBoost), k-nearest neighbors and support vector machine."
   ]
  },
  {
   "cell_type": "code",
   "execution_count": 25,
   "metadata": {
    "collapsed": true
   },
   "outputs": [],
   "source": [
    "data_x = data.iloc[:,1:10]\n",
    "data_y = data['Class']"
   ]
  },
  {
   "cell_type": "code",
   "execution_count": 26,
   "metadata": {
    "collapsed": false,
    "scrolled": true
   },
   "outputs": [
    {
     "data": {
      "text/plain": [
       "Index([u'Clump_Thickness', u'Uniformity_Cell_Size', u'Uniformity_Cell_Shape',\n",
       "       u'Marginal_Adhesion', u'Single_Epithelial_Cell_Size', u'Bare_Nuclei',\n",
       "       u'Bland_Chromatin', u'Normal_Nucleoli', u'Mitoses'],\n",
       "      dtype='object')"
      ]
     },
     "execution_count": 26,
     "metadata": {},
     "output_type": "execute_result"
    }
   ],
   "source": [
    "data_x.columns"
   ]
  },
  {
   "cell_type": "markdown",
   "metadata": {},
   "source": [
    "We first correct the unbalanced dataset by under sampling the 'benign' class leading to a binary dataset with equal number of observations, 236.\n"
   ]
  },
  {
   "cell_type": "code",
   "execution_count": 27,
   "metadata": {
    "collapsed": true
   },
   "outputs": [],
   "source": [
    "from imblearn.under_sampling import RandomUnderSampler\n",
    "rus = RandomUnderSampler()\n",
    "data_x_balanced, data_y_balanced = rus.fit_sample(data_x, data_y)"
   ]
  },
  {
   "cell_type": "code",
   "execution_count": 28,
   "metadata": {
    "collapsed": false
   },
   "outputs": [
    {
     "data": {
      "text/plain": [
       "Counter({2: 236, 4: 236})"
      ]
     },
     "execution_count": 28,
     "metadata": {},
     "output_type": "execute_result"
    }
   ],
   "source": [
    "from collections import Counter\n",
    "Counter(data_y_balanced)"
   ]
  },
  {
   "cell_type": "markdown",
   "metadata": {},
   "source": [
    "Training & Test sets"
   ]
  },
  {
   "cell_type": "code",
   "execution_count": 29,
   "metadata": {
    "collapsed": false
   },
   "outputs": [
    {
     "data": {
      "text/plain": [
       "(118, 9)"
      ]
     },
     "execution_count": 29,
     "metadata": {},
     "output_type": "execute_result"
    }
   ],
   "source": [
    "from sklearn.cross_validation import train_test_split\n",
    "train_x, test_x, train_y, test_y = train_test_split(data_x_balanced, data_y_balanced, test_size = 0.25)\n",
    "train_x.shape # 354 cells and 9 features\n",
    "test_x.shape #  118 cells and 9 features"
   ]
  },
  {
   "cell_type": "markdown",
   "metadata": {},
   "source": [
    "Models\n",
    "1. Logistic Regression\n",
    "2. Linear Discriminant Analysis\n",
    "3. Decision Tree CART\n",
    "4. Random Forest \n",
    "5. Gradient Boosting\n",
    "6. K-Nearest Neighbors\n",
    "7. Naive Bayes\n",
    "8. Support Vector Machines"
   ]
  },
  {
   "cell_type": "code",
   "execution_count": 30,
   "metadata": {
    "collapsed": true
   },
   "outputs": [],
   "source": [
    "from sklearn import model_selection\n",
    "from sklearn.linear_model import LogisticRegression\n",
    "from sklearn.tree import DecisionTreeClassifier\n",
    "from sklearn.ensemble import RandomForestClassifier, GradientBoostingClassifier\n",
    "from sklearn.neighbors import KNeighborsClassifier\n",
    "from sklearn.discriminant_analysis import LinearDiscriminantAnalysis\n",
    "from sklearn.naive_bayes import GaussianNB\n",
    "from sklearn.svm import SVC"
   ]
  },
  {
   "cell_type": "code",
   "execution_count": 34,
   "metadata": {
    "collapsed": true
   },
   "outputs": [],
   "source": [
    "seed = 123\n",
    "models = []\n",
    "models.append(('logreg', LogisticRegression()))\n",
    "models.append(('cart', DecisionTreeClassifier()))\n",
    "models.append(('rfc', RandomForestClassifier()))\n",
    "models.append(('gbc', GradientBoostingClassifier()))\n",
    "models.append(('knn', KNeighborsClassifier()))\n",
    "models.append(('lda', LinearDiscriminantAnalysis()))\n",
    "models.append(('nb', GaussianNB()))\n",
    "models.append(('svc', SVC(kernel='rbf')))"
   ]
  },
  {
   "cell_type": "code",
   "execution_count": 35,
   "metadata": {
    "collapsed": false
   },
   "outputs": [
    {
     "name": "stdout",
     "output_type": "stream",
     "text": [
      "10-fold CV Train Accuracy:\n",
      "  logreg: 97.44 (+/- 2.37)\n",
      "  cart: 95.18 (+/- 2.85)\n",
      "  rfc: 97.17 (+/- 2.19)\n",
      "  gbc: 97.45 (+/- 1.53)\n",
      "  knn: 96.87 (+/- 3.49)\n",
      "  lda: 96.30 (+/- 4.04)\n",
      "  nb: 97.44 (+/- 2.37)\n",
      "  svc: 96.60 (+/- 2.48)\n"
     ]
    }
   ],
   "source": [
    "seed = 123\n",
    "results = []\n",
    "names = []\n",
    "scoring = 'accuracy'\n",
    "print(\"10-fold CV Train Accuracy:\")\n",
    "for name, model in models:\n",
    "    kfold = model_selection.KFold(n_splits=10, random_state=seed)\n",
    "    cv_scores = model_selection.cross_val_score(model, train_x, train_y, cv=kfold, scoring=scoring)\n",
    "    results.append(cv_scores)\n",
    "    names.append(name)\n",
    "    msg = \"  %s: %0.2f (+/- %0.2f)\" % (name, cv_scores.mean()*100, cv_scores.std()*100)\n",
    "    print(msg)"
   ]
  },
  {
   "cell_type": "markdown",
   "metadata": {},
   "source": [
    "Boxplot model comparison"
   ]
  },
  {
   "cell_type": "code",
   "execution_count": 36,
   "metadata": {
    "collapsed": false,
    "scrolled": false
   },
   "outputs": [
    {
     "data": {
      "image/png": "[encoded data removed]",
      "text/plain": [
       "<matplotlib.figure.Figure at 0x119b46050>"
      ]
     },
     "metadata": {},
     "output_type": "display_data"
    }
   ],
   "source": [
    "fig = plt.figure()\n",
    "fig.suptitle('Algorithm Comparison (Training set)')\n",
    "ax = fig.add_subplot(111)\n",
    "plt.boxplot(results)\n",
    "ax.set_xticklabels(names)\n",
    "plt.show()"
   ]
  },
  {
   "cell_type": "markdown",
   "metadata": {},
   "source": [
    "!!! Measuring algoritm performance with other metrics - confusion matrix and statistics"
   ]
  },
  {
   "cell_type": "code",
   "execution_count": 37,
   "metadata": {
    "collapsed": false,
    "scrolled": true
   },
   "outputs": [
    {
     "name": "stdout",
     "output_type": "stream",
     "text": [
      "10-fold CV Test Accuracy:\n",
      "  logreg: 92.37\n",
      "  cart: 92.37\n",
      "  rfc: 95.76\n",
      "  gbc: 92.37\n",
      "  knn: 95.76\n",
      "  lda: 94.07\n",
      "  nb: 96.61\n",
      "  svc: 95.76\n"
     ]
    }
   ],
   "source": [
    "seed =123\n",
    "results = []\n",
    "names = []\n",
    "scores = 'accuracy'\n",
    "print(\"10-fold CV Test Accuracy:\")\n",
    "for name, model in models:\n",
    "    kfold = model_selection.KFold(n_splits=10, random_state=seed)\n",
    "    cv_preds = model_selection.cross_val_predict(model, test_x, test_y, cv=kfold)\n",
    "    names.append(name)\n",
    "    print (\"  %s: %0.2f\" % (name, metrics.accuracy_score(test_y, cv_preds)*100))"
   ]
  },
  {
   "cell_type": "markdown",
   "metadata": {},
   "source": [
    "All algorithms performed very well overall. Support Vector Classifier (SVC) slightly outperformed other algorithms with overall 10-fold train accuracy of 98.3% followed by Logistic Regression (LR) then tree-based methods (RFC, GBC) and Nearest Neighbor (KNN). Classification and Regression Tree (CART) method is the least performing algorithm with an overall 10-fold train accurcacy of 93.2% and test accuracy of 90.7%."
   ]
  },
  {
   "cell_type": "markdown",
   "metadata": {},
   "source": [
    "# Model Optimisation by Feature Selection"
   ]
  },
  {
   "cell_type": "markdown",
   "metadata": {},
   "source": [
    "We then proceed to select relevant feature (variable) to guarantee best model performances using 3 different methods\n",
    "(feature importance, recursive feature elimination). Feature selection is a process where you automatically select those features that contribute most to the outcome you are trying to predict (i.e class). Why? Having irrelevant features in the data can decrease the accuracy of the models. Some of the benefits of feature selection include reduce overfitting, improving accuracy and minimizing computing time. "
   ]
  },
  {
   "cell_type": "markdown",
   "metadata": {},
   "source": [
    "- Feature Importance of Tree-based methods"
   ]
  },
  {
   "cell_type": "markdown",
   "metadata": {},
   "source": [
    "Two of our best performing classifiers (Random Forest RFC, Gradient Boosting GBC) use ensembles of decision trees and compute the relative importance of each feature which can be used to inform a feature selection process."
   ]
  },
  {
   "cell_type": "code",
   "execution_count": 38,
   "metadata": {
    "collapsed": false
   },
   "outputs": [
    {
     "name": "stdout",
     "output_type": "stream",
     "text": [
      "                             importance\n",
      "feature                                \n",
      "Uniformity_Cell_Size              0.340\n",
      "Bare_Nuclei                       0.215\n",
      "Uniformity_Cell_Shape             0.170\n",
      "Single_Epithelial_Cell_Size       0.144\n",
      "Clump_Thickness                   0.046\n",
      "Bland_Chromatin                   0.034\n",
      "Marginal_Adhesion                 0.023\n",
      "Normal_Nucleoli                   0.023\n",
      "Mitoses                           0.006\n"
     ]
    },
    {
     "data": {
      "text/plain": [
       "<matplotlib.axes._subplots.AxesSubplot at 0x119cb24d0>"
      ]
     },
     "execution_count": 38,
     "metadata": {},
     "output_type": "execute_result"
    },
    {
     "data": {
      "image/png": "[encoded data removed]",
      "text/plain": [
       "<matplotlib.figure.Figure at 0x119aea690>"
      ]
     },
     "metadata": {},
     "output_type": "display_data"
    }
   ],
   "source": [
    "rfc = RandomForestClassifier()\n",
    "rfc.fit(train_x, train_y)\n",
    "importances = pd.DataFrame({'feature':data_x.columns,'importance':np.round(rfc.feature_importances_,3)})\n",
    "importances = importances.sort_values('importance',ascending=False).set_index('feature')\n",
    "\n",
    "print importances\n",
    "importances.plot.bar()"
   ]
  },
  {
   "cell_type": "code",
   "execution_count": 39,
   "metadata": {
    "collapsed": false
   },
   "outputs": [
    {
     "name": "stdout",
     "output_type": "stream",
     "text": [
      "RFC Accuracy: 94.92%\n",
      "Thresh=0.010, n=9, Accuracy: 99.15%\n",
      "Thresh=0.012, n=8, Accuracy: 95.76%\n",
      "Thresh=0.013, n=7, Accuracy: 95.76%\n",
      "Thresh=0.026, n=6, Accuracy: 97.46%\n",
      "Thresh=0.077, n=5, Accuracy: 94.92%\n",
      "Thresh=0.109, n=4, Accuracy: 96.61%\n",
      "Thresh=0.158, n=3, Accuracy: 95.76%\n",
      "Thresh=0.215, n=2, Accuracy: 90.68%\n",
      "Thresh=0.380, n=1, Accuracy: 88.98%\n"
     ]
    }
   ],
   "source": [
    "from numpy import sort\n",
    "from sklearn.metrics import accuracy_score\n",
    "from sklearn.feature_selection import SelectFromModel\n",
    "\n",
    "model = RandomForestClassifier()\n",
    "model.fit(train_x, train_y)\n",
    "\n",
    "# make predictions for test data and evaluate\n",
    "pred_y = model.predict(test_x)\n",
    "predictions = [round(value) for value in pred_y]\n",
    "accuracy = metrics.accuracy_score(test_y, predictions)\n",
    "print(\"RFC Accuracy: %.2f%%\" % (accuracy * 100.0))\n",
    "\n",
    "# fit model using each importance as a threshold\n",
    "thresholds = sort(model.feature_importances_)\n",
    "for thresh in thresholds:\n",
    "    # selecting features using threshold\n",
    "    selection = SelectFromModel(model, threshold=thresh, prefit=True)\n",
    "    select_train_x = selection.transform(train_x)\n",
    "    \n",
    "    # training model\n",
    "    selection_model = RandomForestClassifier()\n",
    "    selection_model.fit(select_train_x, train_y)\n",
    "    \n",
    "    # evaluating model\n",
    "    select_test_x = selection.transform(test_x)\n",
    "    pred_y = selection_model.predict(select_test_x)\n",
    "    predictions = [round(value) for value in pred_y]\n",
    "    accuracy = metrics.accuracy_score(test_y, predictions)\n",
    "    print(\"Thresh=%.3f, n=%d, Accuracy: %.2f%%\" % (thresh, select_train_x.shape[1], accuracy*100.0))"
   ]
  },
  {
   "cell_type": "markdown",
   "metadata": {},
   "source": [
    "Using RFC, the optimal model is obtained with only 4 features and an estimated accuracy of 98.31% compared to 95.76%. A more complex model with 7 features would lead to the same accuracy while a simpler model with only 3 features leads to a decrease in accuracy from 98.31% to 95.76%. These features are, in order of importance,Uniformity_Cell_Shape, Single_Epithelial_Cell_Size, Uniformity_cell_Size, Bare_Nuclei and Bland_Chromatin."
   ]
  },
  {
   "cell_type": "markdown",
   "metadata": {},
   "source": [
    "-"
   ]
  },
  {
   "cell_type": "code",
   "execution_count": 40,
   "metadata": {
    "collapsed": false
   },
   "outputs": [
    {
     "name": "stdout",
     "output_type": "stream",
     "text": [
      "                             importance\n",
      "feature                                \n",
      "Bare_Nuclei                       0.195\n",
      "Uniformity_Cell_Shape             0.186\n",
      "Single_Epithelial_Cell_Size       0.168\n",
      "Uniformity_Cell_Size              0.115\n",
      "Marginal_Adhesion                 0.108\n",
      "Bland_Chromatin                   0.108\n",
      "Clump_Thickness                   0.069\n",
      "Normal_Nucleoli                   0.037\n",
      "Mitoses                           0.014\n"
     ]
    },
    {
     "data": {
      "text/plain": [
       "<matplotlib.axes._subplots.AxesSubplot at 0x119735f90>"
      ]
     },
     "execution_count": 40,
     "metadata": {},
     "output_type": "execute_result"
    },
    {
     "data": {
      "image/png": "[encoded data removed]",
      "text/plain": [
       "<matplotlib.figure.Figure at 0x119a8cf90>"
      ]
     },
     "metadata": {},
     "output_type": "display_data"
    }
   ],
   "source": [
    "gbc = GradientBoostingClassifier()\n",
    "gbc.fit(train_x, train_y)\n",
    "importances = pd.DataFrame({'feature':data_x.columns,'importance':np.round(gbc.feature_importances_,3)})\n",
    "importances = importances.sort_values('importance',ascending=False).set_index('feature')\n",
    "\n",
    "print importances\n",
    "importances.plot.bar()"
   ]
  },
  {
   "cell_type": "code",
   "execution_count": 41,
   "metadata": {
    "collapsed": false
   },
   "outputs": [
    {
     "name": "stdout",
     "output_type": "stream",
     "text": [
      "GBC Accuracy: 96.61%\n",
      "Thresh=0.014, n=9, Accuracy: 96.61%\n",
      "Thresh=0.031, n=8, Accuracy: 97.46%\n",
      "Thresh=0.076, n=7, Accuracy: 96.61%\n",
      "Thresh=0.093, n=6, Accuracy: 94.07%\n",
      "Thresh=0.100, n=5, Accuracy: 95.76%\n",
      "Thresh=0.106, n=4, Accuracy: 96.61%\n",
      "Thresh=0.182, n=3, Accuracy: 96.61%\n",
      "Thresh=0.188, n=2, Accuracy: 94.92%\n",
      "Thresh=0.210, n=1, Accuracy: 88.98%\n"
     ]
    }
   ],
   "source": [
    "model = GradientBoostingClassifier()\n",
    "model.fit(train_x, train_y)\n",
    "\n",
    "# make predictions for test data and evaluate\n",
    "pred_y = model.predict(test_x)\n",
    "predictions = [round(value) for value in pred_y]\n",
    "accuracy = accuracy_score(test_y, predictions)\n",
    "print(\"GBC Accuracy: %.2f%%\" % (accuracy * 100.0))\n",
    "\n",
    "# fit model using each importance as a threshold\n",
    "thresholds = sort(model.feature_importances_)\n",
    "for thresh in thresholds:\n",
    "    # select features using threshold\n",
    "    selection = SelectFromModel(model, threshold=thresh, prefit=True)\n",
    "    select_train_x = selection.transform(train_x)\n",
    "    \n",
    "    # train model\n",
    "    selection_model = RandomForestClassifier()\n",
    "    selection_model.fit(select_train_x, train_y)\n",
    "    \n",
    "    # eval model\n",
    "    select_test_x = selection.transform(test_x)\n",
    "    pred_y = selection_model.predict(select_test_x)\n",
    "    predictions = [round(value) for value in pred_y]\n",
    "    accuracy = accuracy_score(test_y, predictions)\n",
    "    print(\"Thresh=%.3f, n=%d, Accuracy: %.2f%%\" % (thresh, select_train_x.shape[1], accuracy*100.0))"
   ]
  },
  {
   "cell_type": "markdown",
   "metadata": {},
   "source": [
    "Comparing model performance with feature importance, the optimal model is obtained with only 6 features and an estimated accuracy of 98.31%. A more complex model with 8 features (leaving 'Bland_chromatin' feature out) would lead to the same accuracy of 98.31% while a simpler model with only 3 features leads to a decrease in accuracy from 98.31% to 97.46%."
   ]
  },
  {
   "cell_type": "markdown",
   "metadata": {},
   "source": [
    "- Recursive feature elimination"
   ]
  },
  {
   "cell_type": "markdown",
   "metadata": {},
   "source": [
    "Recursive Feature Elimination (or RFE) removes recursively features and buils a model on those features that remain.\n",
    "It uses the model estimated accuracy to identify which feature (or combination of features) contribute the most and rank them."
   ]
  },
  {
   "cell_type": "code",
   "execution_count": 42,
   "metadata": {
    "collapsed": false
   },
   "outputs": [
    {
     "data": {
      "text/plain": [
       "Index([u'Clump_Thickness', u'Uniformity_Cell_Size', u'Uniformity_Cell_Shape',\n",
       "       u'Marginal_Adhesion', u'Single_Epithelial_Cell_Size', u'Bare_Nuclei',\n",
       "       u'Bland_Chromatin', u'Normal_Nucleoli', u'Mitoses'],\n",
       "      dtype='object')"
      ]
     },
     "execution_count": 42,
     "metadata": {},
     "output_type": "execute_result"
    }
   ],
   "source": [
    "#Reminder of the set of features in order\n",
    "data_x.columns"
   ]
  },
  {
   "cell_type": "code",
   "execution_count": 43,
   "metadata": {
    "collapsed": false
   },
   "outputs": [
    {
     "name": "stdout",
     "output_type": "stream",
     "text": [
      "[False  True  True False False  True  True False False]\n",
      "[3 1 1 5 2 1 1 4 6]\n",
      "Test Accuracy: 95.76%\n"
     ]
    }
   ],
   "source": [
    "from sklearn.feature_selection import RFE\n",
    "rfc = RandomForestClassifier()\n",
    "\n",
    "# create the RFE model and select 4 attributes\n",
    "rfe_model = RFE(rfc, 4, step=1)\n",
    "rfe_model = rfe_model.fit(train_x, train_y)\n",
    "\n",
    "# summarize the selection of the attributes\n",
    "print(rfe_model.support_)\n",
    "print(rfe_model.ranking_)\n",
    "\n",
    "# evaluate the model on testing set\n",
    "pred_y = rfe_model.predict(test_x)\n",
    "predictions = [round(value) for value in pred_y]\n",
    "accuracy = accuracy_score(test_y, predictions)\n",
    "print(\"Test Accuracy: %.2f%%\" % (accuracy*100.0))"
   ]
  },
  {
   "cell_type": "code",
   "execution_count": 44,
   "metadata": {
    "collapsed": false
   },
   "outputs": [
    {
     "name": "stdout",
     "output_type": "stream",
     "text": [
      "[False  True  True  True  True  True  True False False]\n",
      "[2 1 1 1 1 1 1 3 4]\n",
      "Test Accuracy: 96.61%\n"
     ]
    }
   ],
   "source": [
    "gbc = GradientBoostingClassifier()\n",
    "\n",
    "rfe_model = RFE(gbc, 6, step=1)\n",
    "rfe_model = rfe_model.fit(train_x, train_y)\n",
    "\n",
    "print(rfe_model.support_)\n",
    "print(rfe_model.ranking_)\n",
    "\n",
    "pred_y = rfe_model.predict(test_x)\n",
    "predictions = [round(value) for value in pred_y]\n",
    "accuracy = accuracy_score(test_y, predictions)\n",
    "print(\"Test Accuracy: %.2f%%\" % (accuracy*100.0))"
   ]
  },
  {
   "cell_type": "markdown",
   "metadata": {},
   "source": [
    "A simpler Random Forest classifier would require only 4 features (Uniformity_Cell_Size, Uniformity_Cell_Shape, Single_Epithelial_Cell_Size, Bare_Nuclei) to yield a test accuracy of 96.61%. In contrast, a Gradient Boosting model using 6 features will lead to identical performance. "
   ]
  },
  {
   "cell_type": "code",
   "execution_count": 45,
   "metadata": {
    "collapsed": false
   },
   "outputs": [
    {
     "name": "stdout",
     "output_type": "stream",
     "text": [
      "[ True  True False  True False  True  True  True  True]\n",
      "[1 1 2 1 3 1 1 1 1]\n",
      "Test Accuracy: 96.61%\n"
     ]
    }
   ],
   "source": [
    "from sklearn.feature_selection import RFE\n",
    "\n",
    "svm = SVC(kernel='linear')\n",
    "\n",
    "rfe_model = RFE(svm, 7, step=1)\n",
    "rfe_model = rfe_model.fit(train_x, train_y)\n",
    "\n",
    "print(rfe_model.support_)\n",
    "print(rfe_model.ranking_)\n",
    "\n",
    "pred_y = rfe_model.predict(test_x)\n",
    "predictions = [round(value) for value in pred_y]\n",
    "accuracy = accuracy_score(test_y, predictions)\n",
    "print(\"Test Accuracy: %.2f%%\" % (accuracy*100.0))"
   ]
  },
  {
   "cell_type": "markdown",
   "metadata": {
    "collapsed": false
   },
   "source": [
    "knn = KNeighborsClassifier()\n",
    "\n",
    "rfe_model = RFE(knn, 9, step=1)\n",
    "rfe_model = rfe_model.fit(train_x, train_y)\n",
    "\n",
    "print(rfe_model.support_)\n",
    "print(rfe_model.ranking_)\n",
    "\n",
    "pred_y = rfe_model.predict(test_x)\n",
    "predictions = [round(value) for value in pred_y]\n",
    "accuracy = accuracy_score(test_y, predictions)\n",
    "print(\"Test Accuracy: %.2f%%\" % (accuracy*100.0))"
   ]
  },
  {
   "cell_type": "markdown",
   "metadata": {},
   "source": [
    "Applying RFE to competing binary classifiers KNN and linear SVM, the results showed that KNN require the complete set of features to perform an estimated test accuracy of 94.92%. In constrast, linear SVM requires 7 features to perform like the aforementioned tree-based methods, leaving 'Bland_Chromatin' and 'Single_Epithelial_Cell_Size' features out."
   ]
  },
  {
   "cell_type": "markdown",
   "metadata": {},
   "source": [
    "- Univariate selection"
   ]
  },
  {
   "cell_type": "markdown",
   "metadata": {},
   "source": [
    "You can use statistical tests to select features that have the strongest relationship with the output variable (i.e. class). Scikit-learn library provides the SelectKBest class to use with a suite of different statistical tests in order to select a specific number of features. The example below uses the chi squared (chi^2) statistical test."
   ]
  },
  {
   "cell_type": "code",
   "execution_count": 46,
   "metadata": {
    "collapsed": false
   },
   "outputs": [
    {
     "name": "stdout",
     "output_type": "stream",
     "text": [
      " Clump_Thickness : 290.90\n",
      " Uniformity_Cell_Size : 608.91\n",
      " Uniformity_Cell_Shape : 594.27\n",
      " Marginal_Adhesion : 480.20\n",
      " Single_Epithelial_Cell_Size : 247.26\n",
      " Bland_Chromatin : 843.84\n",
      " Normal_Nucleoli : 339.49\n",
      " Mitoses : 527.01\n"
     ]
    }
   ],
   "source": [
    "from sklearn.feature_selection import SelectKBest\n",
    "from sklearn.feature_selection import chi2\n",
    "\n",
    "names = ['Clump_Thickness', 'Uniformity_Cell_Size', 'Uniformity_Cell_Shape', 'Marginal_Adhesion', 'Single_Epithelial_Cell_Size', 'Bland_Chromatin', 'Normal_Nucleoli', 'Mitoses']\n",
    "for n in range(0, len(names)):\n",
    "    test = SelectKBest(score_func=chi2, k=9)\n",
    "    fit = test.fit(train_x, train_y)\n",
    "\n",
    "    print(\" %s : %.2f\") % (names[n], fit.scores_[n])"
   ]
  },
  {
   "cell_type": "markdown",
   "metadata": {},
   "source": [
    "The chosen features are the ones with highest scores - the top 3 features are Uniformity_Cell_Size, Uniformity_Cell_Shape and Bland_Chromatin."
   ]
  },
  {
   "cell_type": "markdown",
   "metadata": {},
   "source": [
    "# Model Optimisation by Parameter Tuning"
   ]
  },
  {
   "cell_type": "markdown",
   "metadata": {},
   "source": [
    "In that part, we reviewed the four classifiers kNN, RBF, GBC and SVM and optimized their performances using their respective parameters also called hyperparameters. "
   ]
  },
  {
   "cell_type": "markdown",
   "metadata": {},
   "source": [
    "- k-nearest neighbors\n",
    "\n",
    "k-Nearest Neighbors (kNN) is a non parametric and instance-based learning algorithm meaning that it makes no assumption about the relationship between the cell features (x) and the class (y) and, it memorizes the training observations for the prediction phase.\n",
    "In the classification setting, the algorithm forms the majority vote between most k similar observations i.e. neighbors (sharing similar cell features) to a given “unseen” observation. Similarity is defined according to a distance metric between two data points where the distance metric commonly considered is the Euclidean distance but other measures include the Manhattan, Chebyshev and Hamming distance. Thus, there are two primary hyperparameters to consider for optimization: the number of neighbors k and the distance metric/similarity function. An excellent tutorial and detailed guide to kNN can be found on Kevin Zakka's blog (kevinzakka.github.io/2016/07/13/k-nearest-neighbor/). Using kNN classifier, we solve the problem similarly to the procedure employed by medical doctors - the test reports from a new patient are compared with the records of other patients (training set) that are known to be either begnin or malignant.\n"
   ]
  },
  {
   "cell_type": "code",
   "execution_count": 51,
   "metadata": {
    "collapsed": false,
    "scrolled": false
   },
   "outputs": [
    {
     "name": "stdout",
     "output_type": "stream",
     "text": [
      "The optimal number of neighbors is 2 with 96.9%\n"
     ]
    },
    {
     "data": {
      "image/png": "[encoded data removed]",
      "text/plain": [
       "<matplotlib.figure.Figure at 0x119b12910>"
      ]
     },
     "metadata": {},
     "output_type": "display_data"
    }
   ],
   "source": [
    "from sklearn import model_selection\n",
    "\n",
    "#Neighbors\n",
    "neighbors = filter(lambda x: x % 2 == 0, list(range(1,50)))\n",
    "#neighbors = range(50)\n",
    "\n",
    "#Create empty list that will hold cv scores\n",
    "cv_scores = []\n",
    "\n",
    "#Perform 10-fold cross validation on training set for odd values of k:\n",
    "seed=123\n",
    "for k in neighbors:\n",
    "    k_value = k+1\n",
    "    knn = KNeighborsClassifier(n_neighbors = k_value, weights='uniform', p=2, metric='euclidean')\n",
    "    kfold = model_selection.KFold(n_splits=10, random_state=seed)\n",
    "    scores = model_selection.cross_val_score(knn, train_x, train_y, cv=kfold, scoring='accuracy')\n",
    "    cv_scores.append(scores.mean()*100)\n",
    "    #print(\"k=%d %0.2f (+/- %0.2f)\" % (k_value, scores.mean()*100, scores.std()*100))\n",
    "\n",
    "optimal_k = neighbors[cv_scores.index(max(cv_scores))]\n",
    "print \"The optimal number of neighbors is %d with %0.1f%%\" % (optimal_k, cv_scores[optimal_k])\n",
    "\n",
    "plt.plot(neighbors, cv_scores)\n",
    "plt.xlabel('Number of Neighbors K')\n",
    "plt.ylabel('Train Accuracy')\n",
    "plt.show()"
   ]
  },
  {
   "cell_type": "code",
   "execution_count": 52,
   "metadata": {
    "collapsed": false
   },
   "outputs": [
    {
     "name": "stdout",
     "output_type": "stream",
     "text": [
      "The optimal number of neighbors is 2 with 95.8%\n"
     ]
    },
    {
     "data": {
      "image/png": "[encoded data removed]",
      "text/plain": [
       "<matplotlib.figure.Figure at 0x119941210>"
      ]
     },
     "metadata": {},
     "output_type": "display_data"
    }
   ],
   "source": [
    "cv_preds = []\n",
    "\n",
    "#Perform 10-fold cross validation on testing set for odd values of k\n",
    "seed=123\n",
    "for k in neighbors:\n",
    "    k_value = k+1\n",
    "    knn = KNeighborsClassifier(n_neighbors = k_value, weights='uniform', p=2, metric='euclidean')\n",
    "    kfold = model_selection.KFold(n_splits=10, random_state=seed)\n",
    "    preds = model_selection.cross_val_predict(knn, test_x, test_y, cv=kfold)\n",
    "    cv_preds.append(metrics.accuracy_score(test_y, preds)*100)\n",
    "    #print(\"k=%d %0.2f\" % (k_value, 100*metrics.accuracy_score(test_y, preds)))\n",
    "\n",
    "optimal_k = neighbors[cv_preds.index(max(cv_preds))]\n",
    "print \"The optimal number of neighbors is %d with %0.1f%%\" % (optimal_k, cv_preds[optimal_k])\n",
    "\n",
    "plt.plot(neighbors, cv_preds)\n",
    "plt.xlabel('Number of Neighbors K')\n",
    "plt.ylabel('Test Accuracy')\n",
    "plt.show()"
   ]
  },
  {
   "cell_type": "markdown",
   "metadata": {},
   "source": [
    "10-fold cross validation tells us that the best performances (accuracy) of k-nearest neighbors against the training set  and the testing set are for k=2 using uniform weights and euclidean distance, 96.9% and 95.8% respectively."
   ]
  },
  {
   "cell_type": "markdown",
   "metadata": {},
   "source": [
    "- Random Forest"
   ]
  },
  {
   "cell_type": "markdown",
   "metadata": {
    "collapsed": true
   },
   "source": [
    "Random Forest is one of the 'infamous' tree-based algorithms, popularly used in all kinds of data science problems. Random Forest is defined as an ensemble of decision trees. Decision tree is a type of supervised learning algorithm that splits observations (both categorical and continuous variables) into the classes based on the best splitter (i.e. feature value) at each step  - this is a greedy algorithm. However, decision trees can suffer from high variance (if they are not pruned) which makes their results fragile to the specific training data used. \n",
    "\n",
    "\n",
    "http://www.r2d3.us/visual-intro-to-machine-learning-part-1/\n",
    "Beautiful illustration of a decision tree by Stefanie Yee and Tony Chu (r2d3.us) on NYC and SF home sales.\n",
    "\n",
    "One way to reduce this variance, called Bootstrap aggregation or Bagging, builds multiple models from observations of your training data. However, the same algorithm is used to create each tree, meaning the same or very similar split points may be chosen in each tree making and the trees would be highly correlated. In addition to bagging, Random Forest also constrains the features that can be used to build the trees, forcing trees to be different leading to a more accurate and stable predictive performance.\n",
    "\n",
    "There are 4 hyperparameters required for a Random Forest classifier; \n",
    "- the number of trees in the forest (n_estimators).\n",
    "- the number of features to consider at each split. By default: square root of total number of features (max_features).\n",
    "- the maximum depth of a tree i.e. number of nodes (max_depth).\n",
    "- the minimum number of samples required to be at a leaf node / bottom of a tree (min_samples_leaf).\n"
   ]
  },
  {
   "cell_type": "markdown",
   "metadata": {},
   "source": [
    "In our study, our training set has 354 observations and 9 features. Therefore, our max_features will be 3 at each split (equivalent to use 'sqrt' and 'auto'). For the other 3 hyperparameters, we can screen one parameter at a time (fixing max_depth to 10 and min_samples_leaf=1) and compare the model performance with accuracy or error rate."
   ]
  },
  {
   "cell_type": "code",
   "execution_count": 98,
   "metadata": {
    "collapsed": false
   },
   "outputs": [
    {
     "name": "stdout",
     "output_type": "stream",
     "text": [
      "The optimal number of estimators is 36 with 97.4%\n"
     ]
    },
    {
     "data": {
      "image/png": "[encoded data removed]",
      "text/plain": [
       "<matplotlib.figure.Figure at 0x117c9d750>"
      ]
     },
     "metadata": {},
     "output_type": "display_data"
    }
   ],
   "source": [
    "seed = 123\n",
    " \n",
    "# RFC with fixed hyperparameters max_depth, max_features and min_samples_leaf\n",
    "rfc = RandomForestClassifier(n_jobs=-1, oob_score = True, max_depth=10, max_features='sqrt', min_samples_leaf = 1) \n",
    "\n",
    "# Range of `n_estimators` values to explore.\n",
    "n_estim = filter(lambda x: x % 2 == 0, list(range(10,100)))\n",
    "\n",
    "cv_scores = []\n",
    "\n",
    "for i in n_estim:\n",
    "    rfc.set_params(n_estimators=i)\n",
    "    kfold = model_selection.KFold(n_splits=10, random_state=seed)\n",
    "    scores = model_selection.cross_val_score(rfc, train_x, train_y, cv=kfold, scoring='accuracy')\n",
    "    cv_scores.append(scores.mean()*100)\n",
    "    #print(\"n_estimator=%d %0.2f (+/- %0.2f)\" % (i, scores.mean()*100, scores.std()*100))\n",
    "    \n",
    "optimal_n_estim = n_estim[cv_scores.index(max(cv_scores))]\n",
    "print \"The optimal number of estimators is %d with %0.1f%%\" % (optimal_n_estim, cv_scores[optimal_n_estim])\n",
    "\n",
    "plt.plot(n_estim, cv_scores)\n",
    "plt.xlabel('Number of Estimators')\n",
    "plt.ylabel('Train Accuracy')\n",
    "plt.show()"
   ]
  },
  {
   "cell_type": "markdown",
   "metadata": {},
   "source": [
    "Our results show that best RFC training accuracy of 98.3% is obtained with 36 estimators. We can repeat the same search for max_depth and min_samples_leaf, finding their optimal values for highest model performances in each case while fixing the two parameters, as follows."
   ]
  },
  {
   "cell_type": "code",
   "execution_count": 95,
   "metadata": {
    "collapsed": false
   },
   "outputs": [
    {
     "name": "stdout",
     "output_type": "stream",
     "text": [
      "The optimal maximum depth of a tree is 15 with 97.7%\n"
     ]
    },
    {
     "data": {
      "image/png": "[encoded data removed]",
      "text/plain": [
       "<matplotlib.figure.Figure at 0x11e7fa390>"
      ]
     },
     "metadata": {},
     "output_type": "display_data"
    }
   ],
   "source": [
    "seed = 123\n",
    "\n",
    "# RFC with fixed hyperparameters n_estimators, max_features and min_samples_leaf\n",
    "rfc = RandomForestClassifier(n_jobs=-1, oob_score = True, n_estimators=36, max_features='sqrt', min_samples_leaf = 1) \n",
    "\n",
    "# Range of `max_depth` values to explore.\n",
    "m_depth = filter(lambda x: x % 5 == 0, list(range(10,100)))\n",
    "\n",
    "cv_scores = []\n",
    "\n",
    "for j in m_depth:\n",
    "    rfc.set_params(max_depth=j)\n",
    "    #rfc.fit(train_x, train_y)\n",
    "    kfold = model_selection.KFold(n_splits=10, random_state=seed)\n",
    "    scores = model_selection.cross_val_score(rfc, train_x, train_y, cv=kfold, scoring='accuracy')\n",
    "    cv_scores.append(scores.mean()*100)\n",
    "    #print(\"n_estimator=%d %0.2f (+/- %0.2f)\" % (j, scores.mean()*100, scores.std()*100))\n",
    "    \n",
    "optimal_depth = m_depth[cv_scores.index(max(cv_scores))]\n",
    "print \"The optimal maximum depth of a tree is %d with %0.1f%%\" % (optimal_depth, cv_scores[optimal_depth])\n",
    "\n",
    "plt.plot(m_depth, cv_scores)\n",
    "plt.xlabel('Max Depth')\n",
    "plt.ylabel('Train Accuracy')\n",
    "plt.show()"
   ]
  },
  {
   "cell_type": "markdown",
   "metadata": {},
   "source": [
    "Our results show a  improvement upon the model performance to 97.7% with max_depth of 15 and number of estimators equal to 36.subtle"
   ]
  },
  {
   "cell_type": "code",
   "execution_count": 97,
   "metadata": {
    "collapsed": false
   },
   "outputs": [
    {
     "name": "stdout",
     "output_type": "stream",
     "text": [
      "The optimal minimum number of samples leaf is 2 with 98.0%\n"
     ]
    },
    {
     "data": {
      "image/png": "[encoded data removed]",
      "text/plain": [
       "<matplotlib.figure.Figure at 0x11e952910>"
      ]
     },
     "metadata": {},
     "output_type": "display_data"
    }
   ],
   "source": [
    "seed = 123\n",
    "subtle\n",
    "# RFC with fixed hyperparameters n_estimators, max_features and min_samples_leaf\n",
    "rfc = RandomForestClassifier(n_jobs=-1, oob_score = True, n_estimators=36, max_features='sqrt', max_depth=15) \n",
    "\n",
    "# Range of `max_depth` values to explore.\n",
    "m_sample = filter(lambda x: x % 2 == 0, list(range(1,20)))\n",
    "\n",
    "cv_scores = []\n",
    "\n",
    "for k in m_sample:\n",
    "    rfc.set_params(min_samples_leaf=k)\n",
    "    #rfc.fit(train_x, train_y)\n",
    "    kfold = model_selection.KFold(n_splits=10, random_state=seed)\n",
    "    scores = model_selection.cross_val_score(rfc, train_x, train_y, cv=kfold, scoring='accuracy')\n",
    "    cv_scores.append(scores.mean()*100)\n",
    "    #print(\"n_estimator=%d %0.2f (+/- %0.2f)\" % (j, scores.mean()*100, scores.std()*100))\n",
    "    \n",
    "optimal_sample = m_sample[cv_scores.index(max(cv_scores))]\n",
    "print \"The optimal minimum number of samples leaf is %d with %0.1f%%\" % (optimal_sample, cv_scores[optimal_sample])\n",
    "\n",
    "plt.plot(m_sample, cv_scores)\n",
    "plt.xlabel('Min Samples Leaf')\n",
    "plt.ylabel('Train Accuracy')\n",
    "plt.show()"
   ]
  },
  {
   "cell_type": "markdown",
   "metadata": {},
   "source": [
    "Our results show that increasing the minimum number of samples leaf from 1 to 2 leads to a higher performance of 98%. In conclusion, searching the 3 hyperparameters one-by-one search leads to a top performance of 98.02% with n-estimators=36, max_depth=15 and min_samples_leaf=2."
   ]
  },
  {
   "cell_type": "markdown",
   "metadata": {},
   "source": [
    "Another approach using a Grid Search over the 3 parameters; n_estimators, max_depth, min_samples_leaf allows not to do an exhaustive and systematic search one parameter after another. We set up different ranges for each parameters including the aforementioned values. The results indicate a higher training performance of 98.02% with number of estimators = 36, max_depth = 5 and min_samples_leaf = 4. The model performance on test set is of 91.53% (less accurate than k-nearest neighbors algorithm)."
   ]
  },
  {
   "cell_type": "code",
   "execution_count": 101,
   "metadata": {
    "collapsed": false
   },
   "outputs": [
    {
     "name": "stdout",
     "output_type": "stream",
     "text": [
      "{'n_estimators': 36, 'max_depth': 5, 'min_samples_leaf': 4}\n"
     ]
    }
   ],
   "source": [
    "from sklearn.grid_search import GridSearchCV\n",
    "#from sklearn.ensemble import RandomForestClassifier\n",
    "\n",
    "rfc = RandomForestClassifier(n_jobs=-1, max_features='sqrt', oob_score = True) \n",
    "\n",
    "# Use a grid over parameters of interest\n",
    "param_grid = { \n",
    "           \"n_estimators\" : [9, 18, 27, 36, 45, 54, 63],\n",
    "           \"max_depth\" : [1, 5, 10, 15, 20, 25, 30],\n",
    "           \"min_samples_leaf\" : [1, 2, 4, 6, 8, 10]}\n",
    "\n",
    "CV_rfc = GridSearchCV(estimator=rfc, param_grid=param_grid, cv= 10)\n",
    "CV_rfc.fit(train_x, train_y)\n",
    "print CV_rfc.best_params_\n",
    "#print grid_search.cv_results_"
   ]
  },
  {
   "cell_type": "code",
   "execution_count": 104,
   "metadata": {
    "collapsed": false
   },
   "outputs": [
    {
     "name": "stdout",
     "output_type": "stream",
     "text": [
      "Train accuracy 98.00 (+/- 2.57)\n",
      "Test accuracy 95.76\n"
     ]
    }
   ],
   "source": [
    "seed = 123\n",
    "\n",
    "# Optimized RF classifier\n",
    "rfc = RandomForestClassifier(n_estimators=36, max_depth=5, max_features='sqrt', min_samples_leaf = 4)\n",
    "rfc2 = RandomForestClassifier() # original and default RFC model\n",
    "\n",
    "kfold = model_selection.KFold(n_splits=10, random_state=seed)\n",
    "\n",
    "# fit the model with training set\n",
    "scores = model_selection.cross_val_score(rfc2, train_x, train_y, cv=kfold, scoring='accuracy')\n",
    "cv_scores.append(scores.mean()*100)\n",
    "print(\"Train accuracy %0.2f (+/- %0.2f)\" % (scores.mean()*100, scores.std()*100))\n",
    "\n",
    "# predict on testing set\n",
    "preds = model_selection.cross_val_predict(rfc2, test_x, test_y, cv=kfold)\n",
    "cv_preds.append(metrics.accuracy_score(test_y, preds)*100)\n",
    "print(\"Test accuracy %0.2f\" % (100*metrics.accuracy_score(test_y, preds)))"
   ]
  },
  {
   "cell_type": "markdown",
   "metadata": {},
   "source": [
    "The results indicated a training accuracy of 98.29% and a testing accuracy of 96.61%. We improved from the original training and testing model performance using default parameters, 98.00% and 95.76% respectively . In the next and last part, we will visit how to tune the hyperparameters of a support-vector machine model."
   ]
  },
  {
   "cell_type": "markdown",
   "metadata": {},
   "source": [
    "- Support Vector Machine"
   ]
  },
  {
   "cell_type": "markdown",
   "metadata": {},
   "source": [
    "Consider plotting all your observations into a n-dimensional space (defined by n number of features) using their \"unique\" coordinates and where each observation is labeled by its class (e.g. begnin and malignant). Support Vector Machines are a class of discriminative algorithms that perform a classification on that n-dimensional space by finding the virtual line, also known as an hyperplane, that can separate their classes as best as possible. For example, if you had two features, you could represent all observations on a scatterplot and the algorithm would separate the classes by a line. By \"best\", the SVM algorithm searches for the largest minimum distance that separates observations from the two classes in the feature space - this is called the maximum margin. The margin is calculated as the perpendicular distance from the hyperplane to only the closest points. Only these points are relevant in defining the hyperplane and in the construction of the classifier. They are called the support vectors. \n",
    "\n",
    "http://www.datasciencecentral.com/profiles/blogs/learn-support-vector-machine-svm-from-scratch-in-r\n",
    "\n",
    "\n",
    "In practice, real observations are messy and cannot be separated perfectly with a hyperplane. Therefore, the maximum margin must be more flexible allowing some observations (training set) to violate the hyperplane. A first tuning parameter is introduced called C (cost) that defines the amount of violation of the margin allowed. The larger the value of C is, the more violations of the hyperplane are permitted - the less sensitive the algorithm is to the training data (lower variance and higher bias).\n",
    "\n",
    "\n",
    "The hyperplane that separates labeled observations can be linear and is defined by a linear equation. However, more often the hyperplane is not and requires a different set of functions to convert not separable input space to a separable higher dimensional space, these functions are called kernels. SVM have different types of kernels: linear, polynomial, radial basis and sigmoidal functions. If we pick a non-linear kernel function such as the radial basis function or 'rbf', a third tuning parameter must be considered, gamma. Gamma is the free parameter of the Gaussian radial basis function. If gamma is large, then variance is low implying the support vector does not have wide-spread influence (high bias).\n"
   ]
  },
  {
   "cell_type": "code",
   "execution_count": 108,
   "metadata": {
    "collapsed": false
   },
   "outputs": [
    {
     "name": "stdout",
     "output_type": "stream",
     "text": [
      "{'kernel': 'rbf', 'C': 100, 'gamma': 0.001}\n"
     ]
    }
   ],
   "source": [
    "from sklearn.grid_search import GridSearchCV\n",
    "#from sklearn.ensemble import RandomForestClassifier\n",
    "\n",
    "svc = SVC()\n",
    "\n",
    "# Set the parameters by cross-validation\n",
    "param_grid = { \n",
    "           \"kernel\" : ['linear', 'poly', 'rbf', 'sigmoid'],\n",
    "           \"gamma\" : [1e-1, 1e-2, 1e-3, 1e-4],\n",
    "           \"C\" : [1, 10, 100, 1000]}\n",
    "\n",
    "CV_svc = GridSearchCV(estimator=svc, param_grid=param_grid, cv= 10)\n",
    "CV_svc.fit(train_x, train_y)\n",
    "print CV_svc.best_params_"
   ]
  },
  {
   "cell_type": "code",
   "execution_count": 110,
   "metadata": {
    "collapsed": false
   },
   "outputs": [
    {
     "name": "stdout",
     "output_type": "stream",
     "text": [
      "Train accuracy 98.58 (+/- 1.91)\n",
      "Test accuracy 94.07\n"
     ]
    }
   ],
   "source": [
    "seed = 123\n",
    "\n",
    "# Optimized RF classifier\n",
    "svc = SVC(kernel='rbf', C=100, gamma=0.001)\n",
    "svc2 = SVC() # original SVC model with default parameters: C=1, gamma='auto', kernel='rbf'\n",
    "\n",
    "kfold = model_selection.KFold(n_splits=10, random_state=seed)\n",
    "\n",
    "# fit the model with training set\n",
    "scores = model_selection.cross_val_score(svc, train_x, train_y, cv=kfold, scoring='accuracy')\n",
    "cv_scores.append(scores.mean()*100)\n",
    "print(\"Train accuracy %0.2f (+/- %0.2f)\" % (scores.mean()*100, scores.std()*100))\n",
    "\n",
    "# predict on testing set\n",
    "preds = model_selection.cross_val_predict(svc, test_x, test_y, cv=kfold)\n",
    "cv_preds.append(metrics.accuracy_score(test_y, preds)*100)\n",
    "print(\"Test accuracy %0.2f\" % (100*metrics.accuracy_score(test_y, preds)))"
   ]
  },
  {
   "cell_type": "markdown",
   "metadata": {},
   "source": [
    "- Logistic Regression"
   ]
  },
  {
   "cell_type": "markdown",
   "metadata": {},
   "source": [
    "Definition"
   ]
  },
  {
   "cell_type": "markdown",
   "metadata": {},
   "source": [
    "http://machinelearningmastery.com/logistic-regression-for-machine-learning/"
   ]
  },
  {
   "cell_type": "code",
   "execution_count": 112,
   "metadata": {
    "collapsed": false
   },
   "outputs": [
    {
     "name": "stdout",
     "output_type": "stream",
     "text": [
      "Train accuracy 97.44 (+/- 2.37)\n",
      "Test accuracy 92.37\n"
     ]
    }
   ],
   "source": [
    "seed = 123\n",
    "\n",
    "# Optimized RF classifier\n",
    "\n",
    "logreg2 = LogisticRegression() # original SVC model with default parameters: C=1, gamma='auto', kernel='rbf'\n",
    "\n",
    "kfold = model_selection.KFold(n_splits=10, random_state=seed)\n",
    "\n",
    "# fit the model with training set\n",
    "scores = model_selection.cross_val_score(logreg2, train_x, train_y, cv=kfold, scoring='accuracy')\n",
    "cv_scores.append(scores.mean()*100)\n",
    "print(\"Train accuracy %0.2f (+/- %0.2f)\" % (scores.mean()*100, scores.std()*100))\n",
    "\n",
    "# predict on testing set\n",
    "preds = model_selection.cross_val_predict(logreg2, test_x, test_y, cv=kfold)\n",
    "cv_preds.append(metrics.accuracy_score(test_y, preds)*100)\n",
    "print(\"Test accuracy %0.2f\" % (100*metrics.accuracy_score(test_y, preds)))"
   ]
  },
  {
   "cell_type": "code",
   "execution_count": null,
   "metadata": {
    "collapsed": true
   },
   "outputs": [],
   "source": []
  }
 ],
 "metadata": {
  "anaconda-cloud": {},
  "kernelspec": {
   "display_name": "Python [Root]",
   "language": "python",
   "name": "Python [Root]"
  },
  "language_info": {
   "codemirror_mode": {
    "name": "ipython",
    "version": 2
   },
   "file_extension": ".py",
   "mimetype": "text/x-python",
   "name": "python",
   "nbconvert_exporter": "python",
   "pygments_lexer": "ipython2",
   "version": "2.7.12"
  }
 },
 "nbformat": 4,
 "nbformat_minor": 0
}
